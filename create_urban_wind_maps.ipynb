{
 "cells": [
  {
   "cell_type": "code",
   "execution_count": 2,
   "id": "904d9626",
   "metadata": {},
   "outputs": [
    {
     "name": "stdout",
     "output_type": "stream",
     "text": [
      "PROJ_LIB manually set to: /opt/conda/envs/urbanair/share/proj\n"
     ]
    }
   ],
   "source": [
    "\n",
    "import warnings\n",
    "import os\n",
    "from src.green_pont import load_json_with_comments\n",
    "from src.urban_wind import wind_speed_grib, read_cfd_wind, scale_cfd_wind, save_local_wind, plot_maps\n",
    "from src.plots_jupyter import plot_urban_wind\n",
    "import ipywidgets as widgets\n",
    "\n",
    "warnings.filterwarnings(\"always\")\n",
    "\n",
    "# 1. Manually specify the expected PROJ data path for your Conda environment.\n",
    "#    REPLACE THIS WITH THE YOUR ACTUAL PATH.\n",
    "\"\"\"\n",
    "\n",
    "conda_proj_data_path = r\"/opt/conda/envs/urbanair/share/proj\"\n",
    "\n",
    "# 2. Delete PROJ_LIB from os.environ first, in case it was already set incorrectly.\n",
    "if 'PROJ_LIB' in os.environ:\n",
    "    del os.environ['PROJ_LIB']\n",
    "\n",
    "# 3. Explicitly set PROJ_LIB to the correct Conda path.\n",
    "os.environ['PROJ_LIB'] = conda_proj_data_path\n",
    "print(f\"PROJ_LIB manually set to: {os.environ['PROJ_LIB']}\")\n",
    "\"\"\"\n",
    "\n"
   ]
  },
  {
   "cell_type": "code",
   "execution_count": 3,
   "id": "f7b1224b",
   "metadata": {},
   "outputs": [
    {
     "name": "stderr",
     "output_type": "stream",
     "text": [
      "Can't create file 'data/meteo_input/GRIBPFDEOD+0000h00m00s.5b7b6.idx'\n",
      "Traceback (most recent call last):\n",
      "  File \"/opt/conda/envs/urbanair/lib/python3.11/site-packages/cfgrib/messages.py\", line 538, in from_indexpath_or_filestream\n",
      "    with compat_create_exclusive(indexpath) as new_index_file:\n",
      "  File \"/opt/conda/envs/urbanair/lib/python3.11/contextlib.py\", line 137, in __enter__\n",
      "    return next(self.gen)\n",
      "           ^^^^^^^^^^^^^^\n",
      "  File \"/opt/conda/envs/urbanair/lib/python3.11/site-packages/cfgrib/messages.py\", line 504, in compat_create_exclusive\n",
      "    fd = os.open(path, os.O_WRONLY | os.O_CREAT | os.O_EXCL)\n",
      "         ^^^^^^^^^^^^^^^^^^^^^^^^^^^^^^^^^^^^^^^^^^^^^^^^^^^\n",
      "FileNotFoundError: [Errno 2] No such file or directory: 'data/meteo_input/GRIBPFDEOD+0000h00m00s.5b7b6.idx'\n",
      "Can't read index file 'data/meteo_input/GRIBPFDEOD+0000h00m00s.5b7b6.idx'\n",
      "Traceback (most recent call last):\n",
      "  File \"/opt/conda/envs/urbanair/lib/python3.11/site-packages/cfgrib/messages.py\", line 548, in from_indexpath_or_filestream\n",
      "    index_mtime = os.path.getmtime(indexpath)\n",
      "                  ^^^^^^^^^^^^^^^^^^^^^^^^^^^\n",
      "  File \"/opt/conda/envs/urbanair/lib/python3.11/genericpath.py\", line 55, in getmtime\n",
      "    return os.stat(filename).st_mtime\n",
      "           ^^^^^^^^^^^^^^^^^\n",
      "FileNotFoundError: [Errno 2] No such file or directory: 'data/meteo_input/GRIBPFDEOD+0000h00m00s.5b7b6.idx'\n"
     ]
    },
    {
     "name": "stdout",
     "output_type": "stream",
     "text": [
      "Reading GRIB files from  data/meteo_input/\n"
     ]
    },
    {
     "ename": "FileNotFoundError",
     "evalue": "[Errno 2] No such file or directory: 'data/meteo_input/GRIBPFDEOD+0000h00m00s'",
     "output_type": "error",
     "traceback": [
      "\u001b[31m---------------------------------------------------------------------------\u001b[39m",
      "\u001b[31mFileNotFoundError\u001b[39m                         Traceback (most recent call last)",
      "\u001b[36mCell\u001b[39m\u001b[36m \u001b[39m\u001b[32mIn[3]\u001b[39m\u001b[32m, line 13\u001b[39m\n\u001b[32m     10\u001b[39m masks=[cf[\u001b[33m'\u001b[39m\u001b[33mgeometry\u001b[39m\u001b[33m'\u001b[39m][\u001b[33m\"\u001b[39m\u001b[33mbuildings\u001b[39m\u001b[33m\"\u001b[39m], cf[\u001b[33m'\u001b[39m\u001b[33mgeometry\u001b[39m\u001b[33m'\u001b[39m][\u001b[33m\"\u001b[39m\u001b[33mwaterbodies\u001b[39m\u001b[33m\"\u001b[39m]]  \n\u001b[32m     12\u001b[39m \u001b[38;5;66;03m# read meteo file from meso-scale model\u001b[39;00m\n\u001b[32m---> \u001b[39m\u001b[32m13\u001b[39m wind_meteo = \u001b[43mwind_speed_grib\u001b[49m\u001b[43m(\u001b[49m\u001b[32;43m30\u001b[39;49m\u001b[43m,\u001b[49m\u001b[43m \u001b[49m\u001b[43mpath\u001b[49m\u001b[43m,\u001b[49m\u001b[43m \u001b[49m\u001b[43mgrib_file\u001b[49m\u001b[43m)\u001b[49m\n\u001b[32m     15\u001b[39m \u001b[38;5;66;03m# read pre-computed normalized CFD wind ratios\u001b[39;00m\n\u001b[32m     16\u001b[39m cfd_ratio=read_cfd_wind(path_cfd,angles, height)\n",
      "\u001b[36mFile \u001b[39m\u001b[32m~/urbanair_urbanwind/src/urban_wind.py:37\u001b[39m, in \u001b[36mwind_speed_grib\u001b[39m\u001b[34m(height, path, grib_pattern)\u001b[39m\n\u001b[32m     34\u001b[39m \u001b[38;5;28;01mfor\u001b[39;00m i \u001b[38;5;129;01min\u001b[39;00m hours:\n\u001b[32m     35\u001b[39m     grib_file=path+grib_pattern.replace(\u001b[33m'\u001b[39m\u001b[33m$hour$\u001b[39m\u001b[33m'\u001b[39m, \u001b[38;5;28mstr\u001b[39m(i).zfill(\u001b[32m4\u001b[39m))\n\u001b[32m---> \u001b[39m\u001b[32m37\u001b[39m     grib = \u001b[43mxr\u001b[49m\u001b[43m.\u001b[49m\u001b[43mopen_dataset\u001b[49m\u001b[43m(\u001b[49m\u001b[43mgrib_file\u001b[49m\u001b[43m,\u001b[49m\u001b[43m \u001b[49m\u001b[43mengine\u001b[49m\u001b[43m=\u001b[49m\u001b[33;43m'\u001b[39;49m\u001b[33;43mcfgrib\u001b[39;49m\u001b[33;43m'\u001b[39;49m\u001b[43m,\u001b[49m\u001b[43m \u001b[49m\u001b[43mfilter_by_keys\u001b[49m\u001b[43m=\u001b[49m\u001b[43m{\u001b[49m\u001b[33;43m'\u001b[39;49m\u001b[33;43mtypeOfLevel\u001b[39;49m\u001b[33;43m'\u001b[39;49m\u001b[43m:\u001b[49m\u001b[43m \u001b[49m\u001b[33;43m'\u001b[39;49m\u001b[33;43mheightAboveGround\u001b[39;49m\u001b[33;43m'\u001b[39;49m\u001b[43m}\u001b[49m\u001b[43m)\u001b[49m\n\u001b[32m     38\u001b[39m     time_stamp.append(pd.to_datetime(grib[\u001b[33m'\u001b[39m\u001b[33mtime\u001b[39m\u001b[33m'\u001b[39m].values)+pd.Timedelta(hours=\u001b[38;5;28mint\u001b[39m(i)))\n\u001b[32m     40\u001b[39m     \u001b[38;5;28;01mif\u001b[39;00m idx==\u001b[38;5;28;01mNone\u001b[39;00m:\n",
      "\u001b[36mFile \u001b[39m\u001b[32m/opt/conda/envs/urbanair/lib/python3.11/site-packages/xarray/backends/api.py:760\u001b[39m, in \u001b[36mopen_dataset\u001b[39m\u001b[34m(filename_or_obj, engine, chunks, cache, decode_cf, mask_and_scale, decode_times, decode_timedelta, use_cftime, concat_characters, decode_coords, drop_variables, create_default_indexes, inline_array, chunked_array_type, from_array_kwargs, backend_kwargs, **kwargs)\u001b[39m\n\u001b[32m    748\u001b[39m decoders = _resolve_decoders_kwargs(\n\u001b[32m    749\u001b[39m     decode_cf,\n\u001b[32m    750\u001b[39m     open_backend_dataset_parameters=backend.open_dataset_parameters,\n\u001b[32m   (...)\u001b[39m\u001b[32m    756\u001b[39m     decode_coords=decode_coords,\n\u001b[32m    757\u001b[39m )\n\u001b[32m    759\u001b[39m overwrite_encoded_chunks = kwargs.pop(\u001b[33m\"\u001b[39m\u001b[33moverwrite_encoded_chunks\u001b[39m\u001b[33m\"\u001b[39m, \u001b[38;5;28;01mNone\u001b[39;00m)\n\u001b[32m--> \u001b[39m\u001b[32m760\u001b[39m backend_ds = \u001b[43mbackend\u001b[49m\u001b[43m.\u001b[49m\u001b[43mopen_dataset\u001b[49m\u001b[43m(\u001b[49m\n\u001b[32m    761\u001b[39m \u001b[43m    \u001b[49m\u001b[43mfilename_or_obj\u001b[49m\u001b[43m,\u001b[49m\n\u001b[32m    762\u001b[39m \u001b[43m    \u001b[49m\u001b[43mdrop_variables\u001b[49m\u001b[43m=\u001b[49m\u001b[43mdrop_variables\u001b[49m\u001b[43m,\u001b[49m\n\u001b[32m    763\u001b[39m \u001b[43m    \u001b[49m\u001b[43m*\u001b[49m\u001b[43m*\u001b[49m\u001b[43mdecoders\u001b[49m\u001b[43m,\u001b[49m\n\u001b[32m    764\u001b[39m \u001b[43m    \u001b[49m\u001b[43m*\u001b[49m\u001b[43m*\u001b[49m\u001b[43mkwargs\u001b[49m\u001b[43m,\u001b[49m\n\u001b[32m    765\u001b[39m \u001b[43m\u001b[49m\u001b[43m)\u001b[49m\n\u001b[32m    766\u001b[39m ds = _dataset_from_backend_dataset(\n\u001b[32m    767\u001b[39m     backend_ds,\n\u001b[32m    768\u001b[39m     filename_or_obj,\n\u001b[32m   (...)\u001b[39m\u001b[32m    779\u001b[39m     **kwargs,\n\u001b[32m    780\u001b[39m )\n\u001b[32m    781\u001b[39m \u001b[38;5;28;01mreturn\u001b[39;00m ds\n",
      "\u001b[36mFile \u001b[39m\u001b[32m/opt/conda/envs/urbanair/lib/python3.11/site-packages/cfgrib/xarray_plugin.py:113\u001b[39m, in \u001b[36mCfGribBackend.open_dataset\u001b[39m\u001b[34m(self, filename_or_obj, mask_and_scale, decode_times, concat_characters, decode_coords, drop_variables, use_cftime, decode_timedelta, lock, indexpath, filter_by_keys, read_keys, ignore_keys, encode_cf, squeeze, time_dims, errors, extra_coords, coords_as_attributes, cache_geo_coords, values_dtype)\u001b[39m\n\u001b[32m     88\u001b[39m \u001b[38;5;28;01mdef\u001b[39;00m\u001b[38;5;250m \u001b[39m\u001b[34mopen_dataset\u001b[39m(\n\u001b[32m     89\u001b[39m     \u001b[38;5;28mself\u001b[39m,\n\u001b[32m     90\u001b[39m     filename_or_obj: T.Union[\u001b[38;5;28mstr\u001b[39m, abc.MappingFieldset[T.Any, abc.Field]],\n\u001b[32m   (...)\u001b[39m\u001b[32m    111\u001b[39m     values_dtype: np.dtype = messages.DEFAULT_VALUES_DTYPE,\n\u001b[32m    112\u001b[39m ) -> xr.Dataset:\n\u001b[32m--> \u001b[39m\u001b[32m113\u001b[39m     store = \u001b[43mCfGribDataStore\u001b[49m\u001b[43m(\u001b[49m\n\u001b[32m    114\u001b[39m \u001b[43m        \u001b[49m\u001b[43mfilename_or_obj\u001b[49m\u001b[43m,\u001b[49m\n\u001b[32m    115\u001b[39m \u001b[43m        \u001b[49m\u001b[43mindexpath\u001b[49m\u001b[43m=\u001b[49m\u001b[43mindexpath\u001b[49m\u001b[43m,\u001b[49m\n\u001b[32m    116\u001b[39m \u001b[43m        \u001b[49m\u001b[43mfilter_by_keys\u001b[49m\u001b[43m=\u001b[49m\u001b[43mfilter_by_keys\u001b[49m\u001b[43m,\u001b[49m\n\u001b[32m    117\u001b[39m \u001b[43m        \u001b[49m\u001b[43mread_keys\u001b[49m\u001b[43m=\u001b[49m\u001b[43mread_keys\u001b[49m\u001b[43m,\u001b[49m\n\u001b[32m    118\u001b[39m \u001b[43m        \u001b[49m\u001b[43mignore_keys\u001b[49m\u001b[43m=\u001b[49m\u001b[43mignore_keys\u001b[49m\u001b[43m,\u001b[49m\n\u001b[32m    119\u001b[39m \u001b[43m        \u001b[49m\u001b[43mencode_cf\u001b[49m\u001b[43m=\u001b[49m\u001b[43mencode_cf\u001b[49m\u001b[43m,\u001b[49m\n\u001b[32m    120\u001b[39m \u001b[43m        \u001b[49m\u001b[43msqueeze\u001b[49m\u001b[43m=\u001b[49m\u001b[43msqueeze\u001b[49m\u001b[43m,\u001b[49m\n\u001b[32m    121\u001b[39m \u001b[43m        \u001b[49m\u001b[43mtime_dims\u001b[49m\u001b[43m=\u001b[49m\u001b[43mtime_dims\u001b[49m\u001b[43m,\u001b[49m\n\u001b[32m    122\u001b[39m \u001b[43m        \u001b[49m\u001b[43mlock\u001b[49m\u001b[43m=\u001b[49m\u001b[43mlock\u001b[49m\u001b[43m,\u001b[49m\n\u001b[32m    123\u001b[39m \u001b[43m        \u001b[49m\u001b[43merrors\u001b[49m\u001b[43m=\u001b[49m\u001b[43merrors\u001b[49m\u001b[43m,\u001b[49m\n\u001b[32m    124\u001b[39m \u001b[43m        \u001b[49m\u001b[43mextra_coords\u001b[49m\u001b[43m=\u001b[49m\u001b[43mextra_coords\u001b[49m\u001b[43m,\u001b[49m\n\u001b[32m    125\u001b[39m \u001b[43m        \u001b[49m\u001b[43mcoords_as_attributes\u001b[49m\u001b[43m=\u001b[49m\u001b[43mcoords_as_attributes\u001b[49m\u001b[43m,\u001b[49m\n\u001b[32m    126\u001b[39m \u001b[43m        \u001b[49m\u001b[43mcache_geo_coords\u001b[49m\u001b[43m=\u001b[49m\u001b[43mcache_geo_coords\u001b[49m\u001b[43m,\u001b[49m\n\u001b[32m    127\u001b[39m \u001b[43m        \u001b[49m\u001b[43mvalues_dtype\u001b[49m\u001b[43m=\u001b[49m\u001b[43mvalues_dtype\u001b[49m\u001b[43m,\u001b[49m\n\u001b[32m    128\u001b[39m \u001b[43m    \u001b[49m\u001b[43m)\u001b[49m\n\u001b[32m    129\u001b[39m     \u001b[38;5;28;01mwith\u001b[39;00m xr.core.utils.close_on_error(store):\n\u001b[32m    130\u001b[39m         \u001b[38;5;28mvars\u001b[39m, attrs = store.load()  \u001b[38;5;66;03m# type: ignore\u001b[39;00m\n",
      "\u001b[36mFile \u001b[39m\u001b[32m/opt/conda/envs/urbanair/lib/python3.11/site-packages/cfgrib/xarray_plugin.py:41\u001b[39m, in \u001b[36mCfGribDataStore.__init__\u001b[39m\u001b[34m(self, filename, lock, **backend_kwargs)\u001b[39m\n\u001b[32m     39\u001b[39m \u001b[38;5;28;01melse\u001b[39;00m:\n\u001b[32m     40\u001b[39m     opener = dataset.open_fieldset\n\u001b[32m---> \u001b[39m\u001b[32m41\u001b[39m \u001b[38;5;28mself\u001b[39m.ds = \u001b[43mopener\u001b[49m\u001b[43m(\u001b[49m\u001b[43mfilename\u001b[49m\u001b[43m,\u001b[49m\u001b[43m \u001b[49m\u001b[43m*\u001b[49m\u001b[43m*\u001b[49m\u001b[43mbackend_kwargs\u001b[49m\u001b[43m)\u001b[49m\n",
      "\u001b[36mFile \u001b[39m\u001b[32m/opt/conda/envs/urbanair/lib/python3.11/site-packages/cfgrib/dataset.py:828\u001b[39m, in \u001b[36mopen_file\u001b[39m\u001b[34m(path, errors, indexpath, filter_by_keys, read_keys, time_dims, extra_coords, ignore_keys, **kwargs)\u001b[39m\n\u001b[32m    826\u001b[39m stream = messages.FileStream(path, errors=errors)\n\u001b[32m    827\u001b[39m index_keys = compute_index_keys(time_dims, extra_coords)\n\u001b[32m--> \u001b[39m\u001b[32m828\u001b[39m index = \u001b[43mopen_fileindex\u001b[49m\u001b[43m(\u001b[49m\u001b[43mstream\u001b[49m\u001b[43m,\u001b[49m\u001b[43m \u001b[49m\u001b[43mindexpath\u001b[49m\u001b[43m,\u001b[49m\u001b[43m \u001b[49m\u001b[43mindex_keys\u001b[49m\u001b[43m,\u001b[49m\u001b[43m \u001b[49m\u001b[43mignore_keys\u001b[49m\u001b[43m=\u001b[49m\u001b[43mignore_keys\u001b[49m\u001b[43m,\u001b[49m\u001b[43m \u001b[49m\u001b[43mfilter_by_keys\u001b[49m\u001b[43m=\u001b[49m\u001b[43mfilter_by_keys\u001b[49m\u001b[43m)\u001b[49m\n\u001b[32m    829\u001b[39m \u001b[38;5;28;01mreturn\u001b[39;00m open_from_index(index, read_keys, time_dims, extra_coords, errors=errors, **kwargs)\n",
      "\u001b[36mFile \u001b[39m\u001b[32m/opt/conda/envs/urbanair/lib/python3.11/site-packages/cfgrib/dataset.py:807\u001b[39m, in \u001b[36mopen_fileindex\u001b[39m\u001b[34m(stream, indexpath, index_keys, ignore_keys, filter_by_keys, computed_keys)\u001b[39m\n\u001b[32m    805\u001b[39m index_keys = \u001b[38;5;28msorted\u001b[39m(\u001b[38;5;28mset\u001b[39m(index_keys) | \u001b[38;5;28mset\u001b[39m(filter_by_keys))\n\u001b[32m    806\u001b[39m index_keys = [key \u001b[38;5;28;01mfor\u001b[39;00m key \u001b[38;5;129;01min\u001b[39;00m index_keys \u001b[38;5;28;01mif\u001b[39;00m key \u001b[38;5;129;01mnot\u001b[39;00m \u001b[38;5;129;01min\u001b[39;00m ignore_keys]\n\u001b[32m--> \u001b[39m\u001b[32m807\u001b[39m index = \u001b[43mmessages\u001b[49m\u001b[43m.\u001b[49m\u001b[43mFileIndex\u001b[49m\u001b[43m.\u001b[49m\u001b[43mfrom_indexpath_or_filestream\u001b[49m\u001b[43m(\u001b[49m\n\u001b[32m    808\u001b[39m \u001b[43m    \u001b[49m\u001b[43mstream\u001b[49m\u001b[43m,\u001b[49m\u001b[43m \u001b[49m\u001b[43mindex_keys\u001b[49m\u001b[43m,\u001b[49m\u001b[43m \u001b[49m\u001b[43mindexpath\u001b[49m\u001b[43m=\u001b[49m\u001b[43mindexpath\u001b[49m\u001b[43m,\u001b[49m\u001b[43m \u001b[49m\u001b[43mcomputed_keys\u001b[49m\u001b[43m=\u001b[49m\u001b[43mcomputed_keys\u001b[49m\n\u001b[32m    809\u001b[39m \u001b[43m\u001b[49m\u001b[43m)\u001b[49m\n\u001b[32m    810\u001b[39m \u001b[38;5;28;01mreturn\u001b[39;00m index.subindex(filter_by_keys)\n",
      "\u001b[36mFile \u001b[39m\u001b[32m/opt/conda/envs/urbanair/lib/python3.11/site-packages/cfgrib/messages.py:565\u001b[39m, in \u001b[36mFileIndex.from_indexpath_or_filestream\u001b[39m\u001b[34m(cls, filestream, index_keys, indexpath, computed_keys, log)\u001b[39m\n\u001b[32m    562\u001b[39m \u001b[38;5;28;01mexcept\u001b[39;00m \u001b[38;5;167;01mException\u001b[39;00m:\n\u001b[32m    563\u001b[39m     log.exception(\u001b[33m\"\u001b[39m\u001b[33mCan\u001b[39m\u001b[33m'\u001b[39m\u001b[33mt read index file \u001b[39m\u001b[38;5;132;01m%r\u001b[39;00m\u001b[33m\"\u001b[39m, indexpath)\n\u001b[32m--> \u001b[39m\u001b[32m565\u001b[39m \u001b[38;5;28;01mreturn\u001b[39;00m \u001b[38;5;28;43mcls\u001b[39;49m\u001b[43m.\u001b[49m\u001b[43mfrom_fieldset\u001b[49m\u001b[43m(\u001b[49m\u001b[43mfilestream\u001b[49m\u001b[43m,\u001b[49m\u001b[43m \u001b[49m\u001b[43mindex_keys\u001b[49m\u001b[43m,\u001b[49m\u001b[43m \u001b[49m\u001b[43mcomputed_keys\u001b[49m\u001b[43m)\u001b[49m\n",
      "\u001b[36mFile \u001b[39m\u001b[32m/opt/conda/envs/urbanair/lib/python3.11/site-packages/cfgrib/messages.py:379\u001b[39m, in \u001b[36mFieldsetIndex.from_fieldset\u001b[39m\u001b[34m(cls, fieldset, index_keys, computed_keys)\u001b[39m\n\u001b[32m    377\u001b[39m \u001b[38;5;28;01melse\u001b[39;00m:\n\u001b[32m    378\u001b[39m     iteritems = \u001b[38;5;28menumerate\u001b[39m(fieldset)\n\u001b[32m--> \u001b[39m\u001b[32m379\u001b[39m \u001b[38;5;28;01mreturn\u001b[39;00m \u001b[38;5;28;43mcls\u001b[39;49m\u001b[43m.\u001b[49m\u001b[43mfrom_fieldset_and_iteritems\u001b[49m\u001b[43m(\u001b[49m\u001b[43mfieldset\u001b[49m\u001b[43m,\u001b[49m\u001b[43m \u001b[49m\u001b[43miteritems\u001b[49m\u001b[43m,\u001b[49m\u001b[43m \u001b[49m\u001b[43mindex_keys\u001b[49m\u001b[43m,\u001b[49m\u001b[43m \u001b[49m\u001b[43mcomputed_keys\u001b[49m\u001b[43m)\u001b[49m\n",
      "\u001b[36mFile \u001b[39m\u001b[32m/opt/conda/envs/urbanair/lib/python3.11/site-packages/cfgrib/messages.py:392\u001b[39m, in \u001b[36mFieldsetIndex.from_fieldset_and_iteritems\u001b[39m\u001b[34m(cls, fieldset, iteritems, index_keys, computed_keys)\u001b[39m\n\u001b[32m    390\u001b[39m index_keys = \u001b[38;5;28mlist\u001b[39m(index_keys)\n\u001b[32m    391\u001b[39m header_values_cache = {}  \u001b[38;5;66;03m# type: T.Dict[T.Tuple[T.Any, type], T.Any]\u001b[39;00m\n\u001b[32m--> \u001b[39m\u001b[32m392\u001b[39m \u001b[43m\u001b[49m\u001b[38;5;28;43;01mfor\u001b[39;49;00m\u001b[43m \u001b[49m\u001b[43mfield_id\u001b[49m\u001b[43m,\u001b[49m\u001b[43m \u001b[49m\u001b[43mraw_field\u001b[49m\u001b[43m \u001b[49m\u001b[38;5;129;43;01min\u001b[39;49;00m\u001b[43m \u001b[49m\u001b[43miteritems\u001b[49m\u001b[43m:\u001b[49m\n\u001b[32m    393\u001b[39m \u001b[43m    \u001b[49m\u001b[43mfield\u001b[49m\u001b[43m \u001b[49m\u001b[43m=\u001b[49m\u001b[43m \u001b[49m\u001b[43mComputedKeysAdapter\u001b[49m\u001b[43m(\u001b[49m\u001b[43mraw_field\u001b[49m\u001b[43m,\u001b[49m\u001b[43m \u001b[49m\u001b[43mcomputed_keys\u001b[49m\u001b[43m)\u001b[49m\n\u001b[32m    394\u001b[39m \u001b[43m    \u001b[49m\u001b[43mheader_values\u001b[49m\u001b[43m \u001b[49m\u001b[43m=\u001b[49m\u001b[43m \u001b[49m\u001b[43m[\u001b[49m\u001b[43m]\u001b[49m\n",
      "\u001b[36mFile \u001b[39m\u001b[32m/opt/conda/envs/urbanair/lib/python3.11/site-packages/cfgrib/messages.py:292\u001b[39m, in \u001b[36mFileStreamItems.__iter__\u001b[39m\u001b[34m(self)\u001b[39m\n\u001b[32m    290\u001b[39m old_offset = -\u001b[32m1\u001b[39m\n\u001b[32m    291\u001b[39m count = \u001b[32m0\u001b[39m\n\u001b[32m--> \u001b[39m\u001b[32m292\u001b[39m \u001b[43m\u001b[49m\u001b[38;5;28;43;01mfor\u001b[39;49;00m\u001b[43m \u001b[49m\u001b[43mmessage\u001b[49m\u001b[43m \u001b[49m\u001b[38;5;129;43;01min\u001b[39;49;00m\u001b[43m \u001b[49m\u001b[38;5;28;43mself\u001b[39;49m\u001b[43m.\u001b[49m\u001b[43mitervalues\u001b[49m\u001b[43m(\u001b[49m\u001b[43m)\u001b[49m\u001b[43m:\u001b[49m\n\u001b[32m    293\u001b[39m \u001b[43m    \u001b[49m\u001b[43moffset\u001b[49m\u001b[43m \u001b[49m\u001b[43m=\u001b[49m\u001b[43m \u001b[49m\u001b[43mmessage\u001b[49m\u001b[43m.\u001b[49m\u001b[43mmessage_get\u001b[49m\u001b[43m(\u001b[49m\u001b[33;43m\"\u001b[39;49m\u001b[33;43moffset\u001b[39;49m\u001b[33;43m\"\u001b[39;49m\u001b[43m,\u001b[49m\u001b[43m \u001b[49m\u001b[38;5;28;43mint\u001b[39;49m\u001b[43m)\u001b[49m\n\u001b[32m    294\u001b[39m \u001b[43m    \u001b[49m\u001b[38;5;28;43;01mif\u001b[39;49;00m\u001b[43m \u001b[49m\u001b[43moffset\u001b[49m\u001b[43m \u001b[49m\u001b[43m==\u001b[49m\u001b[43m \u001b[49m\u001b[43mold_offset\u001b[49m\u001b[43m:\u001b[49m\n",
      "\u001b[36mFile \u001b[39m\u001b[32m/opt/conda/envs/urbanair/lib/python3.11/site-packages/cfgrib/messages.py:268\u001b[39m, in \u001b[36mFileStreamItems.itervalues\u001b[39m\u001b[34m(self)\u001b[39m\n\u001b[32m    266\u001b[39m \u001b[38;5;28;01mdef\u001b[39;00m\u001b[38;5;250m \u001b[39m\u001b[34mitervalues\u001b[39m(\u001b[38;5;28mself\u001b[39m) -> T.Iterator[Message]:\n\u001b[32m    267\u001b[39m     errors = \u001b[38;5;28mself\u001b[39m.filestream.errors\n\u001b[32m--> \u001b[39m\u001b[32m268\u001b[39m     \u001b[38;5;28;01mwith\u001b[39;00m \u001b[38;5;28;43mopen\u001b[39;49m\u001b[43m(\u001b[49m\u001b[38;5;28;43mself\u001b[39;49m\u001b[43m.\u001b[49m\u001b[43mfilestream\u001b[49m\u001b[43m.\u001b[49m\u001b[43mpath\u001b[49m\u001b[43m,\u001b[49m\u001b[43m \u001b[49m\u001b[33;43m\"\u001b[39;49m\u001b[33;43mrb\u001b[39;49m\u001b[33;43m\"\u001b[39;49m\u001b[43m)\u001b[49m \u001b[38;5;28;01mas\u001b[39;00m file:\n\u001b[32m    269\u001b[39m         \u001b[38;5;66;03m# enable MULTI-FIELD support on sequential reads (like when building the index)\u001b[39;00m\n\u001b[32m    270\u001b[39m         \u001b[38;5;28;01mwith\u001b[39;00m multi_enabled(file):\n\u001b[32m    271\u001b[39m             valid_message_found = \u001b[38;5;28;01mFalse\u001b[39;00m\n",
      "\u001b[31mFileNotFoundError\u001b[39m: [Errno 2] No such file or directory: 'data/meteo_input/GRIBPFDEOD+0000h00m00s'"
     ]
    }
   ],
   "source": [
    "cf=load_json_with_comments('etc/settings_wind_maps.json')\n",
    "\n",
    "path_cfd=cf['path_cfd'] #'/projects/urbanair/DATA/DATA_AntwerpWindStudy/wind_ratios'\n",
    "angles=cf[\"angles\"]\n",
    "height=cf[\"height\"]\n",
    "path = cf['path_meteo'] #'data/meteo_input/'\n",
    "grib_file= cf['grib_file'] # 'GRIBPFDEOD+$hour$h00m00s'\n",
    "output_path=cf[\"output_path\"]\n",
    "\n",
    "masks=[cf['geometry'][\"buildings\"], cf['geometry'][\"waterbodies\"]]  \n",
    "\n",
    "# read meteo file from meso-scale model\n",
    "wind_meteo = wind_speed_grib(30, path, grib_file)\n",
    "\n",
    "# read pre-computed normalized CFD wind ratios\n",
    "cfd_ratio=read_cfd_wind(path_cfd,angles, height)\n",
    "\n",
    "# scale meso-scale wind to local urban scale using CFD ratios\n",
    "wind_local=scale_cfd_wind(wind_meteo, cfd_ratio)\n",
    "\n",
    "os.makedirs(output_path, exist_ok=True)\n",
    "\n",
    "\n",
    "\n",
    "saved_files=save_local_wind(wind_local, cfd_ratio, output_path, reproject=True, mask_frames=masks)\n",
    "\n",
    "\n",
    "#plot_maps(saved_files, path=output_path)\n",
    "\n",
    "\n",
    "    "
   ]
  },
  {
   "cell_type": "code",
   "execution_count": 7,
   "id": "77f56e1c",
   "metadata": {},
   "outputs": [
    {
     "data": {
      "application/vnd.jupyter.widget-view+json": {
       "model_id": "e825ae192a73420da73afba52e487f16",
       "version_major": 2,
       "version_minor": 0
      },
      "text/plain": [
       "IntSlider(value=1, description='Hour of the day:', max=24)"
      ]
     },
     "metadata": {},
     "output_type": "display_data"
    }
   ],
   "source": [
    "# Define sliders\n",
    "slider1 = widgets.IntSlider(\n",
    "    value=1, min=0, max=24, step=1,\n",
    "    description='Hour of the day:', continuous_update=True\n",
    ")\n",
    "\n",
    "# Display all three\n",
    "display(slider1)\n",
    "\n",
    "\n"
   ]
  },
  {
   "cell_type": "code",
   "execution_count": 12,
   "id": "008cd08f",
   "metadata": {},
   "outputs": [
    {
     "name": "stdout",
     "output_type": "stream",
     "text": [
      "16\n",
      "data/maps/urban_wind//wind_175_20240811_1600_4326.tif\n"
     ]
    },
    {
     "ename": "RasterioIOError",
     "evalue": "data/maps/urban_wind//wind_175_20240811_1600_4326.tif: No such file or directory",
     "output_type": "error",
     "traceback": [
      "\u001b[31m---------------------------------------------------------------------------\u001b[39m",
      "\u001b[31mCPLE_OpenFailedError\u001b[39m                      Traceback (most recent call last)",
      "\u001b[36mFile \u001b[39m\u001b[32mrasterio/_base.pyx:310\u001b[39m, in \u001b[36mrasterio._base.DatasetBase.__init__\u001b[39m\u001b[34m()\u001b[39m\n",
      "\u001b[36mFile \u001b[39m\u001b[32mrasterio/_base.pyx:221\u001b[39m, in \u001b[36mrasterio._base.open_dataset\u001b[39m\u001b[34m()\u001b[39m\n",
      "\u001b[36mFile \u001b[39m\u001b[32mrasterio/_err.pyx:359\u001b[39m, in \u001b[36mrasterio._err.exc_wrap_pointer\u001b[39m\u001b[34m()\u001b[39m\n",
      "\u001b[31mCPLE_OpenFailedError\u001b[39m: data/maps/urban_wind//wind_175_20240811_1600_4326.tif: No such file or directory",
      "\nDuring handling of the above exception, another exception occurred:\n",
      "\u001b[31mRasterioIOError\u001b[39m                           Traceback (most recent call last)",
      "\u001b[36mCell\u001b[39m\u001b[36m \u001b[39m\u001b[32mIn[12]\u001b[39m\u001b[32m, line 8\u001b[39m\n\u001b[32m      5\u001b[39m \u001b[38;5;28mprint\u001b[39m(tif_path)\n\u001b[32m      7\u001b[39m \u001b[38;5;66;03m#tif_path = \"/projects/urbanair/urbanair_greenpotential/data/maps/recomendation_method3_4326.tif\"\u001b[39;00m\n\u001b[32m----> \u001b[39m\u001b[32m8\u001b[39m \u001b[43mplot_urban_wind\u001b[49m\u001b[43m(\u001b[49m\u001b[43mtif_path\u001b[49m\u001b[43m,\u001b[49m\u001b[43m \u001b[49m\u001b[43mvmin\u001b[49m\u001b[43m=\u001b[49m\u001b[32;43m0\u001b[39;49m\u001b[43m,\u001b[49m\u001b[43m \u001b[49m\u001b[43mvmax\u001b[49m\u001b[43m=\u001b[49m\u001b[32;43m0.1\u001b[39;49m\u001b[43m,\u001b[49m\u001b[43m \u001b[49m\u001b[43mmask_shp\u001b[49m\u001b[43m=\u001b[49m\u001b[33;43m\"\u001b[39;49m\u001b[33;43mdata/geometry/bld_all_fused.shp\u001b[39;49m\u001b[33;43m\"\u001b[39;49m\u001b[43m)\u001b[49m\n",
      "\u001b[36mFile \u001b[39m\u001b[32m/projects/urbanair/urbanair_greenpotential/src/plots_jupyter.py:117\u001b[39m, in \u001b[36mplot_urban_wind\u001b[39m\u001b[34m(tif_path, vmin, vmax, mask_shp)\u001b[39m\n\u001b[32m    114\u001b[39m geoms = gdf.geometry\n\u001b[32m    116\u001b[39m \u001b[38;5;66;03m# --- read first band + bounds ---\u001b[39;00m\n\u001b[32m--> \u001b[39m\u001b[32m117\u001b[39m \u001b[38;5;28;01mwith\u001b[39;00m \u001b[43mrasterio\u001b[49m\u001b[43m.\u001b[49m\u001b[43mopen\u001b[49m\u001b[43m(\u001b[49m\u001b[43mtif_path\u001b[49m\u001b[43m)\u001b[49m \u001b[38;5;28;01mas\u001b[39;00m src:\n\u001b[32m    118\u001b[39m     out_image, out_transform = mask(src, geoms, crop=\u001b[38;5;28;01mTrue\u001b[39;00m, invert=\u001b[38;5;28;01mTrue\u001b[39;00m)\n\u001b[32m    119\u001b[39m     bounds = src.bounds\n",
      "\u001b[36mFile \u001b[39m\u001b[32m/projects/urbanair/urbanair_greenpotential/conda/urbanAir/lib/python3.11/site-packages/rasterio/env.py:463\u001b[39m, in \u001b[36mensure_env_with_credentials.<locals>.wrapper\u001b[39m\u001b[34m(*args, **kwds)\u001b[39m\n\u001b[32m    460\u001b[39m     session = DummySession()\n\u001b[32m    462\u001b[39m \u001b[38;5;28;01mwith\u001b[39;00m env_ctor(session=session):\n\u001b[32m--> \u001b[39m\u001b[32m463\u001b[39m     \u001b[38;5;28;01mreturn\u001b[39;00m \u001b[43mf\u001b[49m\u001b[43m(\u001b[49m\u001b[43m*\u001b[49m\u001b[43margs\u001b[49m\u001b[43m,\u001b[49m\u001b[43m \u001b[49m\u001b[43m*\u001b[49m\u001b[43m*\u001b[49m\u001b[43mkwds\u001b[49m\u001b[43m)\u001b[49m\n",
      "\u001b[36mFile \u001b[39m\u001b[32m/projects/urbanair/urbanair_greenpotential/conda/urbanAir/lib/python3.11/site-packages/rasterio/__init__.py:356\u001b[39m, in \u001b[36mopen\u001b[39m\u001b[34m(fp, mode, driver, width, height, count, crs, transform, dtype, nodata, sharing, opener, **kwargs)\u001b[39m\n\u001b[32m    353\u001b[39m     path = _parse_path(raw_dataset_path)\n\u001b[32m    355\u001b[39m \u001b[38;5;28;01mif\u001b[39;00m mode == \u001b[33m\"\u001b[39m\u001b[33mr\u001b[39m\u001b[33m\"\u001b[39m:\n\u001b[32m--> \u001b[39m\u001b[32m356\u001b[39m     dataset = \u001b[43mDatasetReader\u001b[49m\u001b[43m(\u001b[49m\u001b[43mpath\u001b[49m\u001b[43m,\u001b[49m\u001b[43m \u001b[49m\u001b[43mdriver\u001b[49m\u001b[43m=\u001b[49m\u001b[43mdriver\u001b[49m\u001b[43m,\u001b[49m\u001b[43m \u001b[49m\u001b[43msharing\u001b[49m\u001b[43m=\u001b[49m\u001b[43msharing\u001b[49m\u001b[43m,\u001b[49m\u001b[43m \u001b[49m\u001b[43m*\u001b[49m\u001b[43m*\u001b[49m\u001b[43mkwargs\u001b[49m\u001b[43m)\u001b[49m\n\u001b[32m    357\u001b[39m \u001b[38;5;28;01melif\u001b[39;00m mode == \u001b[33m\"\u001b[39m\u001b[33mr+\u001b[39m\u001b[33m\"\u001b[39m:\n\u001b[32m    358\u001b[39m     dataset = get_writer_for_path(path, driver=driver)(\n\u001b[32m    359\u001b[39m         path, mode, driver=driver, sharing=sharing, **kwargs\n\u001b[32m    360\u001b[39m     )\n",
      "\u001b[36mFile \u001b[39m\u001b[32mrasterio/_base.pyx:312\u001b[39m, in \u001b[36mrasterio._base.DatasetBase.__init__\u001b[39m\u001b[34m()\u001b[39m\n",
      "\u001b[31mRasterioIOError\u001b[39m: data/maps/urban_wind//wind_175_20240811_1600_4326.tif: No such file or directory"
     ]
    }
   ],
   "source": [
    "\n",
    "print(str.zfill(str(slider1.value), 2))\n",
    "\n",
    "hour=str.zfill(str(slider1.value), 2)\n",
    "tif_path=\"data/maps/urban_wind//wind_175_20240811_\"+hour+\"00_4326.tif\"\n",
    "print(tif_path)\n",
    "\n",
    "#tif_path = \"/projects/urbanair/urbanair_greenpotential/data/maps/recomendation_method3_4326.tif\"\n",
    "plot_urban_wind(tif_path, vmin=0, vmax=0.1, mask_shp=\"data/geometry/bld_all_fused.shp\")"
   ]
  }
 ],
 "metadata": {
  "kernelspec": {
   "display_name": "Python (urbanair)",
   "language": "python",
   "name": "urbanair"
  },
  "language_info": {
   "codemirror_mode": {
    "name": "ipython",
    "version": 3
   },
   "file_extension": ".py",
   "mimetype": "text/x-python",
   "name": "python",
   "nbconvert_exporter": "python",
   "pygments_lexer": "ipython3",
   "version": "3.11.13"
  }
 },
 "nbformat": 4,
 "nbformat_minor": 5
}
