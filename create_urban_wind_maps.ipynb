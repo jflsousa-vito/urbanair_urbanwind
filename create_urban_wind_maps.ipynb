{
 "cells": [
  {
   "cell_type": "code",
   "execution_count": null,
   "id": "904d9626",
   "metadata": {},
   "outputs": [],
   "source": [
    "\n",
    "import warnings\n",
    "import os\n",
    "from src.green_pont import load_json_with_comments\n",
    "from src.urban_wind import wind_speed_grib, read_cfd_wind, scale_cfd_wind, save_local_wind, plot_maps\n",
    "from src.plots_jupyter import plot_urban_wind\n",
    "import ipywidgets as widgets\n",
    "\n",
    "warnings.filterwarnings(\"always\")\n",
    "\n",
    "# 1. Manually specify the expected PROJ data path for your Conda environment.\n",
    "#    REPLACE THIS WITH THE YOUR ACTUAL PATH.\n",
    "\"\"\"\n",
    "\n",
    "conda_proj_data_path = r\"/opt/conda/envs/urbanair/share/proj\"\n",
    "\n",
    "# 2. Delete PROJ_LIB from os.environ first, in case it was already set incorrectly.\n",
    "if 'PROJ_LIB' in os.environ:\n",
    "    del os.environ['PROJ_LIB']\n",
    "\n",
    "# 3. Explicitly set PROJ_LIB to the correct Conda path.\n",
    "os.environ['PROJ_LIB'] = conda_proj_data_path\n",
    "print(f\"PROJ_LIB manually set to: {os.environ['PROJ_LIB']}\")\n",
    "\"\"\"\n",
    "\n"
   ]
  },
  {
   "cell_type": "code",
   "execution_count": null,
   "id": "f7b1224b",
   "metadata": {},
   "outputs": [],
   "source": [
    "cf=load_json_with_comments('etc/settings_wind_maps.json')\n",
    "\n",
    "path_cfd=cf['path_cfd'] #'/projects/urbanair/DATA/DATA_AntwerpWindStudy/wind_ratios'\n",
    "angles=cf[\"angles\"]\n",
    "height=cf[\"height\"]\n",
    "path = cf['path_meteo'] #'data/meteo_input/'\n",
    "grib_file= cf['grib_file'] # 'GRIBPFDEOD+$hour$h00m00s'\n",
    "output_path=cf[\"output_path\"]\n",
    "\n",
    "masks=[cf['geometry'][\"buildings\"], cf['geometry'][\"waterbodies\"]]  \n",
    "\n",
    "# read meteo file from meso-scale model\n",
    "wind_meteo = wind_speed_grib(30, path, grib_file)\n",
    "\n",
    "# read pre-computed normalized CFD wind ratios\n",
    "cfd_ratio=read_cfd_wind(path_cfd,angles, height)\n",
    "\n",
    "# scale meso-scale wind to local urban scale using CFD ratios\n",
    "wind_local=scale_cfd_wind(wind_meteo, cfd_ratio)\n",
    "\n",
    "os.makedirs(output_path, exist_ok=True)\n",
    "\n",
    "\n",
    "\n",
    "saved_files=save_local_wind(wind_local, cfd_ratio, output_path, reproject=True, mask_frames=masks)\n",
    "\n",
    "\n",
    "#plot_maps(saved_files, path=output_path)\n",
    "\n",
    "\n",
    "    "
   ]
  },
  {
   "cell_type": "code",
   "execution_count": null,
   "id": "77f56e1c",
   "metadata": {},
   "outputs": [],
   "source": [
    "# Define sliders\n",
    "slider1 = widgets.IntSlider(\n",
    "    value=1, min=0, max=24, step=1,\n",
    "    description='Hour of the day:', continuous_update=True\n",
    ")\n",
    "\n",
    "# Display all three\n",
    "display(slider1)\n",
    "\n",
    "\n"
   ]
  },
  {
   "cell_type": "code",
   "execution_count": null,
   "id": "008cd08f",
   "metadata": {},
   "outputs": [],
   "source": [
    "\n",
    "print(str.zfill(str(slider1.value), 2))\n",
    "\n",
    "hour=str.zfill(str(slider1.value), 2)\n",
    "tif_path=\"data/maps/urban_wind//wind_175_20240811_\"+hour+\"00_4326.tif\"\n",
    "print(tif_path)\n",
    "\n",
    "#tif_path = \"/projects/urbanair/urbanair_greenpotential/data/maps/recomendation_method3_4326.tif\"\n",
    "plot_urban_wind(tif_path, vmin=0, vmax=0.1, mask_shp=\"data/geometry/bld_all_fused.shp\")"
   ]
  }
 ],
 "metadata": {
  "kernelspec": {
   "display_name": "Python (urbanair)",
   "language": "python",
   "name": "urbanair"
  },
  "language_info": {
   "codemirror_mode": {
    "name": "ipython",
    "version": 3
   },
   "file_extension": ".py",
   "mimetype": "text/x-python",
   "name": "python",
   "nbconvert_exporter": "python",
   "pygments_lexer": "ipython3",
   "version": "3.11.13"
  }
 },
 "nbformat": 4,
 "nbformat_minor": 5
}
